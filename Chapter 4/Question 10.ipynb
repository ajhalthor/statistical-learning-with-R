{
 "cells": [
  {
   "cell_type": "markdown",
   "metadata": {},
   "source": [
    "_10. This question should be answered using the Weekly data set, which is part of the ISLR package. This data is similar in nature to the Smarket data from this chapter’s lab, except that it contains 1,089 weekly returns for 21 years, from the beginning of 1990 to the end of 2010._\n",
    "\n",
    "_(a) Produce some numerical and graphical summaries of the Weekly data. Do there appear to be any patterns?_\n",
    "\n"
   ]
  },
  {
   "cell_type": "markdown",
   "metadata": {},
   "source": [
    "I have R Studio installed, where packages are stored in the following location:\n",
    "    _\"/Library/Frameworks/R.framework/Versions/3.4/Resources/library\"_\n",
    "However, this is not the same location for packages in Anaconda:\n",
    "    _\"/Users/Ajay/anaconda/lib/R/library\"._\n",
    "We thus add the latter path for use in our jupyter notebook"
   ]
  },
  {
   "cell_type": "code",
   "execution_count": 1,
   "metadata": {},
   "outputs": [
    {
     "data": {
      "text/html": [
       "<ol class=list-inline>\n",
       "\t<li>'/Library/Frameworks/R.framework/Versions/3.4/Resources/library'</li>\n",
       "\t<li>'/Users/Ajay/anaconda/lib/R/library'</li>\n",
       "</ol>\n"
      ],
      "text/latex": [
       "\\begin{enumerate*}\n",
       "\\item '/Library/Frameworks/R.framework/Versions/3.4/Resources/library'\n",
       "\\item '/Users/Ajay/anaconda/lib/R/library'\n",
       "\\end{enumerate*}\n"
      ],
      "text/markdown": [
       "1. '/Library/Frameworks/R.framework/Versions/3.4/Resources/library'\n",
       "2. '/Users/Ajay/anaconda/lib/R/library'\n",
       "\n",
       "\n"
      ],
      "text/plain": [
       "[1] \"/Library/Frameworks/R.framework/Versions/3.4/Resources/library\"\n",
       "[2] \"/Users/Ajay/anaconda/lib/R/library\"                            "
      ]
     },
     "metadata": {},
     "output_type": "display_data"
    }
   ],
   "source": [
    ".libPaths(\"/Library/Frameworks/R.framework/Versions/3.4/Resources/library\")\n",
    ".libPaths() #Added R Studio's Package Path to Anaconda's Path\n",
    "library(ISLR)\n",
    "library(MASS)"
   ]
  },
  {
   "cell_type": "markdown",
   "metadata": {},
   "source": [
    "Let us take a look at some values of the _Weekly_ Dataset."
   ]
  },
  {
   "cell_type": "code",
   "execution_count": 2,
   "metadata": {},
   "outputs": [
    {
     "data": {
      "text/html": [
       "<table>\n",
       "<thead><tr><th scope=col>Year</th><th scope=col>Lag1</th><th scope=col>Lag2</th><th scope=col>Lag3</th><th scope=col>Lag4</th><th scope=col>Lag5</th><th scope=col>Volume</th><th scope=col>Today</th><th scope=col>Direction</th></tr></thead>\n",
       "<tbody>\n",
       "\t<tr><td>1990     </td><td> 0.816   </td><td> 1.572   </td><td>-3.936   </td><td>-0.229   </td><td>-3.484   </td><td>0.1549760</td><td>-0.270   </td><td>Down     </td></tr>\n",
       "\t<tr><td>1990     </td><td>-0.270   </td><td> 0.816   </td><td> 1.572   </td><td>-3.936   </td><td>-0.229   </td><td>0.1485740</td><td>-2.576   </td><td>Down     </td></tr>\n",
       "\t<tr><td>1990     </td><td>-2.576   </td><td>-0.270   </td><td> 0.816   </td><td> 1.572   </td><td>-3.936   </td><td>0.1598375</td><td> 3.514   </td><td>Up       </td></tr>\n",
       "\t<tr><td>1990     </td><td> 3.514   </td><td>-2.576   </td><td>-0.270   </td><td> 0.816   </td><td> 1.572   </td><td>0.1616300</td><td> 0.712   </td><td>Up       </td></tr>\n",
       "\t<tr><td>1990     </td><td> 0.712   </td><td> 3.514   </td><td>-2.576   </td><td>-0.270   </td><td> 0.816   </td><td>0.1537280</td><td> 1.178   </td><td>Up       </td></tr>\n",
       "\t<tr><td>1990     </td><td> 1.178   </td><td> 0.712   </td><td> 3.514   </td><td>-2.576   </td><td>-0.270   </td><td>0.1544440</td><td>-1.372   </td><td>Down     </td></tr>\n",
       "</tbody>\n",
       "</table>\n"
      ],
      "text/latex": [
       "\\begin{tabular}{r|lllllllll}\n",
       " Year & Lag1 & Lag2 & Lag3 & Lag4 & Lag5 & Volume & Today & Direction\\\\\n",
       "\\hline\n",
       "\t 1990      &  0.816    &  1.572    & -3.936    & -0.229    & -3.484    & 0.1549760 & -0.270    & Down     \\\\\n",
       "\t 1990      & -0.270    &  0.816    &  1.572    & -3.936    & -0.229    & 0.1485740 & -2.576    & Down     \\\\\n",
       "\t 1990      & -2.576    & -0.270    &  0.816    &  1.572    & -3.936    & 0.1598375 &  3.514    & Up       \\\\\n",
       "\t 1990      &  3.514    & -2.576    & -0.270    &  0.816    &  1.572    & 0.1616300 &  0.712    & Up       \\\\\n",
       "\t 1990      &  0.712    &  3.514    & -2.576    & -0.270    &  0.816    & 0.1537280 &  1.178    & Up       \\\\\n",
       "\t 1990      &  1.178    &  0.712    &  3.514    & -2.576    & -0.270    & 0.1544440 & -1.372    & Down     \\\\\n",
       "\\end{tabular}\n"
      ],
      "text/markdown": [
       "\n",
       "Year | Lag1 | Lag2 | Lag3 | Lag4 | Lag5 | Volume | Today | Direction | \n",
       "|---|---|---|---|---|---|\n",
       "| 1990      |  0.816    |  1.572    | -3.936    | -0.229    | -3.484    | 0.1549760 | -0.270    | Down      | \n",
       "| 1990      | -0.270    |  0.816    |  1.572    | -3.936    | -0.229    | 0.1485740 | -2.576    | Down      | \n",
       "| 1990      | -2.576    | -0.270    |  0.816    |  1.572    | -3.936    | 0.1598375 |  3.514    | Up        | \n",
       "| 1990      |  3.514    | -2.576    | -0.270    |  0.816    |  1.572    | 0.1616300 |  0.712    | Up        | \n",
       "| 1990      |  0.712    |  3.514    | -2.576    | -0.270    |  0.816    | 0.1537280 |  1.178    | Up        | \n",
       "| 1990      |  1.178    |  0.712    |  3.514    | -2.576    | -0.270    | 0.1544440 | -1.372    | Down      | \n",
       "\n",
       "\n"
      ],
      "text/plain": [
       "  Year Lag1   Lag2   Lag3   Lag4   Lag5   Volume    Today  Direction\n",
       "1 1990  0.816  1.572 -3.936 -0.229 -3.484 0.1549760 -0.270 Down     \n",
       "2 1990 -0.270  0.816  1.572 -3.936 -0.229 0.1485740 -2.576 Down     \n",
       "3 1990 -2.576 -0.270  0.816  1.572 -3.936 0.1598375  3.514 Up       \n",
       "4 1990  3.514 -2.576 -0.270  0.816  1.572 0.1616300  0.712 Up       \n",
       "5 1990  0.712  3.514 -2.576 -0.270  0.816 0.1537280  1.178 Up       \n",
       "6 1990  1.178  0.712  3.514 -2.576 -0.270 0.1544440 -1.372 Down     "
      ]
     },
     "metadata": {},
     "output_type": "display_data"
    }
   ],
   "source": [
    "Weekly = na.omit(Weekly)\n",
    "head(Weekly) #Use fix(Weekly) in R Studio"
   ]
  },
  {
   "cell_type": "markdown",
   "metadata": {},
   "source": [
    "There are 1089 samples with 8 covariates and 1 response variable (Direction)"
   ]
  },
  {
   "cell_type": "code",
   "execution_count": 6,
   "metadata": {
    "scrolled": true
   },
   "outputs": [
    {
     "data": {
      "text/html": [
       "<ol class=list-inline>\n",
       "\t<li>1089</li>\n",
       "\t<li>9</li>\n",
       "</ol>\n"
      ],
      "text/latex": [
       "\\begin{enumerate*}\n",
       "\\item 1089\n",
       "\\item 9\n",
       "\\end{enumerate*}\n"
      ],
      "text/markdown": [
       "1. 1089\n",
       "2. 9\n",
       "\n",
       "\n"
      ],
      "text/plain": [
       "[1] 1089    9"
      ]
     },
     "metadata": {},
     "output_type": "display_data"
    }
   ],
   "source": [
    "dim(Weekly)"
   ]
  },
  {
   "cell_type": "markdown",
   "metadata": {},
   "source": [
    "Let us generate a summary for every variable"
   ]
  },
  {
   "cell_type": "code",
   "execution_count": 94,
   "metadata": {},
   "outputs": [
    {
     "data": {
      "text/plain": [
       "      Year           Lag1               Lag2               Lag3         \n",
       " Min.   :1990   Min.   :-18.1950   Min.   :-18.1950   Min.   :-18.1950  \n",
       " 1st Qu.:1995   1st Qu.: -1.1540   1st Qu.: -1.1540   1st Qu.: -1.1580  \n",
       " Median :2000   Median :  0.2410   Median :  0.2410   Median :  0.2410  \n",
       " Mean   :2000   Mean   :  0.1506   Mean   :  0.1511   Mean   :  0.1472  \n",
       " 3rd Qu.:2005   3rd Qu.:  1.4050   3rd Qu.:  1.4090   3rd Qu.:  1.4090  \n",
       " Max.   :2010   Max.   : 12.0260   Max.   : 12.0260   Max.   : 12.0260  \n",
       "      Lag4               Lag5              Volume            Today         \n",
       " Min.   :-18.1950   Min.   :-18.1950   Min.   :0.08747   Min.   :-18.1950  \n",
       " 1st Qu.: -1.1580   1st Qu.: -1.1660   1st Qu.:0.33202   1st Qu.: -1.1540  \n",
       " Median :  0.2380   Median :  0.2340   Median :1.00268   Median :  0.2410  \n",
       " Mean   :  0.1458   Mean   :  0.1399   Mean   :1.57462   Mean   :  0.1499  \n",
       " 3rd Qu.:  1.4090   3rd Qu.:  1.4050   3rd Qu.:2.05373   3rd Qu.:  1.4050  \n",
       " Max.   : 12.0260   Max.   : 12.0260   Max.   :9.32821   Max.   : 12.0260  \n",
       " Direction \n",
       " Down:484  \n",
       " Up  :605  \n",
       "           \n",
       "           \n",
       "           \n",
       "           "
      ]
     },
     "metadata": {},
     "output_type": "display_data"
    }
   ],
   "source": [
    "summary(Weekly)"
   ]
  },
  {
   "cell_type": "markdown",
   "metadata": {},
   "source": [
    "From the statistics above, we can conclude that all 8 covariates are **quantitative**. The year _could_ be **quantitative** as it has choices from 21 values."
   ]
  },
  {
   "cell_type": "code",
   "execution_count": 7,
   "metadata": {},
   "outputs": [
    {
     "data": {
      "text/html": [
       "21"
      ],
      "text/latex": [
       "21"
      ],
      "text/markdown": [
       "21"
      ],
      "text/plain": [
       "[1] 21"
      ]
     },
     "metadata": {},
     "output_type": "display_data"
    }
   ],
   "source": [
    "unique_years = unique(Weekly$Year)\n",
    "length(unique_years)"
   ]
  },
  {
   "cell_type": "markdown",
   "metadata": {},
   "source": [
    "Now let us take a look at the relationships between these variables with a scatterplot matrix. We will remove the categorical response variable _Direction_ as it's plot is meaningless."
   ]
  },
  {
   "cell_type": "code",
   "execution_count": 96,
   "metadata": {},
   "outputs": [
    {
     "data": {
      "image/png": "[encoded data removed]",
      "text/plain": [
       "plot without title"
      ]
     },
     "metadata": {},
     "output_type": "display_data"
    }
   ],
   "source": [
    "pairs(Weekly[,-c(length(Weekly))])"
   ]
  },
  {
   "cell_type": "markdown",
   "metadata": {},
   "source": [
    "From the matrix above, there doesn't seem to be any relationship between the covariates except for _Year_ and _Volume_. Let us numerically identify collinear relationships with a correlation matrix."
   ]
  },
  {
   "cell_type": "code",
   "execution_count": 97,
   "metadata": {},
   "outputs": [
    {
     "data": {
      "text/html": [
       "<table>\n",
       "<thead><tr><th></th><th scope=col>Year</th><th scope=col>Lag1</th><th scope=col>Lag2</th><th scope=col>Lag3</th><th scope=col>Lag4</th><th scope=col>Lag5</th><th scope=col>Volume</th><th scope=col>Today</th></tr></thead>\n",
       "<tbody>\n",
       "\t<tr><th scope=row>Year</th><td> 1.00000000 </td><td>-0.032289274</td><td>-0.03339001 </td><td>-0.03000649 </td><td>-0.031127923</td><td>-0.030519101</td><td> 0.84194162 </td><td>-0.032459894</td></tr>\n",
       "\t<tr><th scope=row>Lag1</th><td>-0.03228927 </td><td> 1.000000000</td><td>-0.07485305 </td><td> 0.05863568 </td><td>-0.071273876</td><td>-0.008183096</td><td>-0.06495131 </td><td>-0.075031842</td></tr>\n",
       "\t<tr><th scope=row>Lag2</th><td>-0.03339001 </td><td>-0.074853051</td><td> 1.00000000 </td><td>-0.07572091 </td><td> 0.058381535</td><td>-0.072499482</td><td>-0.08551314 </td><td> 0.059166717</td></tr>\n",
       "\t<tr><th scope=row>Lag3</th><td>-0.03000649 </td><td> 0.058635682</td><td>-0.07572091 </td><td> 1.00000000 </td><td>-0.075395865</td><td> 0.060657175</td><td>-0.06928771 </td><td>-0.071243639</td></tr>\n",
       "\t<tr><th scope=row>Lag4</th><td>-0.03112792 </td><td>-0.071273876</td><td> 0.05838153 </td><td>-0.07539587 </td><td> 1.000000000</td><td>-0.075675027</td><td>-0.06107462 </td><td>-0.007825873</td></tr>\n",
       "\t<tr><th scope=row>Lag5</th><td>-0.03051910 </td><td>-0.008183096</td><td>-0.07249948 </td><td> 0.06065717 </td><td>-0.075675027</td><td> 1.000000000</td><td>-0.05851741 </td><td> 0.011012698</td></tr>\n",
       "\t<tr><th scope=row>Volume</th><td> 0.84194162 </td><td>-0.064951313</td><td>-0.08551314 </td><td>-0.06928771 </td><td>-0.061074617</td><td>-0.058517414</td><td> 1.00000000 </td><td>-0.033077783</td></tr>\n",
       "\t<tr><th scope=row>Today</th><td>-0.03245989 </td><td>-0.075031842</td><td> 0.05916672 </td><td>-0.07124364 </td><td>-0.007825873</td><td> 0.011012698</td><td>-0.03307778 </td><td> 1.000000000</td></tr>\n",
       "</tbody>\n",
       "</table>\n"
      ],
      "text/latex": [
       "\\begin{tabular}{r|llllllll}\n",
       "  & Year & Lag1 & Lag2 & Lag3 & Lag4 & Lag5 & Volume & Today\\\\\n",
       "\\hline\n",
       "\tYear &  1.00000000  & -0.032289274 & -0.03339001  & -0.03000649  & -0.031127923 & -0.030519101 &  0.84194162  & -0.032459894\\\\\n",
       "\tLag1 & -0.03228927  &  1.000000000 & -0.07485305  &  0.05863568  & -0.071273876 & -0.008183096 & -0.06495131  & -0.075031842\\\\\n",
       "\tLag2 & -0.03339001  & -0.074853051 &  1.00000000  & -0.07572091  &  0.058381535 & -0.072499482 & -0.08551314  &  0.059166717\\\\\n",
       "\tLag3 & -0.03000649  &  0.058635682 & -0.07572091  &  1.00000000  & -0.075395865 &  0.060657175 & -0.06928771  & -0.071243639\\\\\n",
       "\tLag4 & -0.03112792  & -0.071273876 &  0.05838153  & -0.07539587  &  1.000000000 & -0.075675027 & -0.06107462  & -0.007825873\\\\\n",
       "\tLag5 & -0.03051910  & -0.008183096 & -0.07249948  &  0.06065717  & -0.075675027 &  1.000000000 & -0.05851741  &  0.011012698\\\\\n",
       "\tVolume &  0.84194162  & -0.064951313 & -0.08551314  & -0.06928771  & -0.061074617 & -0.058517414 &  1.00000000  & -0.033077783\\\\\n",
       "\tToday & -0.03245989  & -0.075031842 &  0.05916672  & -0.07124364  & -0.007825873 &  0.011012698 & -0.03307778  &  1.000000000\\\\\n",
       "\\end{tabular}\n"
      ],
      "text/markdown": [
       "\n",
       "| <!--/--> | Year | Lag1 | Lag2 | Lag3 | Lag4 | Lag5 | Volume | Today | \n",
       "|---|---|---|---|---|---|---|---|\n",
       "| Year |  1.00000000  | -0.032289274 | -0.03339001  | -0.03000649  | -0.031127923 | -0.030519101 |  0.84194162  | -0.032459894 | \n",
       "| Lag1 | -0.03228927  |  1.000000000 | -0.07485305  |  0.05863568  | -0.071273876 | -0.008183096 | -0.06495131  | -0.075031842 | \n",
       "| Lag2 | -0.03339001  | -0.074853051 |  1.00000000  | -0.07572091  |  0.058381535 | -0.072499482 | -0.08551314  |  0.059166717 | \n",
       "| Lag3 | -0.03000649  |  0.058635682 | -0.07572091  |  1.00000000  | -0.075395865 |  0.060657175 | -0.06928771  | -0.071243639 | \n",
       "| Lag4 | -0.03112792  | -0.071273876 |  0.05838153  | -0.07539587  |  1.000000000 | -0.075675027 | -0.06107462  | -0.007825873 | \n",
       "| Lag5 | -0.03051910  | -0.008183096 | -0.07249948  |  0.06065717  | -0.075675027 |  1.000000000 | -0.05851741  |  0.011012698 | \n",
       "| Volume |  0.84194162  | -0.064951313 | -0.08551314  | -0.06928771  | -0.061074617 | -0.058517414 |  1.00000000  | -0.033077783 | \n",
       "| Today | -0.03245989  | -0.075031842 |  0.05916672  | -0.07124364  | -0.007825873 |  0.011012698 | -0.03307778  |  1.000000000 | \n",
       "\n",
       "\n"
      ],
      "text/plain": [
       "       Year        Lag1         Lag2        Lag3        Lag4        \n",
       "Year    1.00000000 -0.032289274 -0.03339001 -0.03000649 -0.031127923\n",
       "Lag1   -0.03228927  1.000000000 -0.07485305  0.05863568 -0.071273876\n",
       "Lag2   -0.03339001 -0.074853051  1.00000000 -0.07572091  0.058381535\n",
       "Lag3   -0.03000649  0.058635682 -0.07572091  1.00000000 -0.075395865\n",
       "Lag4   -0.03112792 -0.071273876  0.05838153 -0.07539587  1.000000000\n",
       "Lag5   -0.03051910 -0.008183096 -0.07249948  0.06065717 -0.075675027\n",
       "Volume  0.84194162 -0.064951313 -0.08551314 -0.06928771 -0.061074617\n",
       "Today  -0.03245989 -0.075031842  0.05916672 -0.07124364 -0.007825873\n",
       "       Lag5         Volume      Today       \n",
       "Year   -0.030519101  0.84194162 -0.032459894\n",
       "Lag1   -0.008183096 -0.06495131 -0.075031842\n",
       "Lag2   -0.072499482 -0.08551314  0.059166717\n",
       "Lag3    0.060657175 -0.06928771 -0.071243639\n",
       "Lag4   -0.075675027 -0.06107462 -0.007825873\n",
       "Lag5    1.000000000 -0.05851741  0.011012698\n",
       "Volume -0.058517414  1.00000000 -0.033077783\n",
       "Today   0.011012698 -0.03307778  1.000000000"
      ]
     },
     "metadata": {},
     "output_type": "display_data"
    }
   ],
   "source": [
    "cor(Weekly[,-c(length(Weekly))])"
   ]
  },
  {
   "cell_type": "markdown",
   "metadata": {},
   "source": [
    "Our Scatterplot and Correlation matrix agree. The only significant value is the correlation between _Year_ and _Volume_."
   ]
  },
  {
   "cell_type": "markdown",
   "metadata": {},
   "source": [
    "_10. (b) Use the full data set to perform a logistic regression with Direction as the response and the five lag variables plus Volume as predictors. Use the summary function to print the results. Do any of the predictors appear to be statistically significant? If so, which ones?_\n"
   ]
  },
  {
   "cell_type": "markdown",
   "metadata": {},
   "source": [
    "The question asks us to use the 5 lag variables and Volume as the predictors. But let us also include _Today_ among our covariates and train a model with logistic regression."
   ]
  },
  {
   "cell_type": "code",
   "execution_count": 105,
   "metadata": {},
   "outputs": [
    {
     "name": "stderr",
     "output_type": "stream",
     "text": [
      "Warning message:\n",
      "“glm.fit: algorithm did not converge”Warning message:\n",
      "“glm.fit: fitted probabilities numerically 0 or 1 occurred”"
     ]
    },
    {
     "data": {
      "text/plain": [
       "\n",
       "Call:  glm(formula = paste(response, \"~\", covariates), family = binomial, \n",
       "    data = Weekly)\n",
       "\n",
       "Coefficients:\n",
       "(Intercept)         Lag1         Lag2         Lag3         Lag4         Lag5  \n",
       "    -6.4418      -5.0528       7.9450       1.5089      -0.2157      10.8937  \n",
       "     Volume        Today  \n",
       "     0.4299     817.6295  \n",
       "\n",
       "Degrees of Freedom: 1088 Total (i.e. Null);  1081 Residual\n",
       "Null Deviance:\t    1496 \n",
       "Residual Deviance: 1.093e-05 \tAIC: 16"
      ]
     },
     "metadata": {},
     "output_type": "display_data"
    }
   ],
   "source": [
    "cols = names(Weekly[-c(1, length(Weekly))]) #Excluding Year\n",
    "covariates = paste(cols, collapse=\"+\")\n",
    "response = names(Weekly[length(Weekly)])\n",
    "\n",
    "glm(paste(response,\"~\",covariates), \n",
    "    data=Weekly,\n",
    "    family=binomial)"
   ]
  },
  {
   "cell_type": "markdown",
   "metadata": {},
   "source": [
    "The error above is an intance of the **Hauck-Donner effect**, also known as _perfect separation_. It occurs when the minimum value of the covariate for a particlar resonse class is greater than the maximum value of the covariate for the other response class. Let us find the values of _Today_."
   ]
  },
  {
   "cell_type": "code",
   "execution_count": 149,
   "metadata": {},
   "outputs": [
    {
     "name": "stdout",
     "output_type": "stream",
     "text": [
      "[1] \"Number of Down samples =  484\"\n",
      "[1] \"Number of Up samples =  605\"\n",
      "[1] \"Maximum value of Today for Down Samples =  -0.002\"\n",
      "[1] \"Minimum value of Today for Up Samples =  0.01\"\n"
     ]
    }
   ],
   "source": [
    "todays_dep = Weekly[,8:9]\n",
    "down_samples = todays_dep[todays_dep$Direction == \"Down\",]\n",
    "up_samples = todays_dep[todays_dep$Direction == \"Up\",]\n",
    "\n",
    "print(paste(\"Number of Down samples = \", dim(down_samples)[1]))\n",
    "print(paste(\"Number of Up samples = \", dim(up_samples)[1]))\n",
    "#dim(up_samples)\n",
    "\n",
    "print(paste(\"Maximum value of Today for Down Samples = \",max(down_samples$Today)))\n",
    "print(paste(\"Minimum value of Today for Up Samples = \",min(up_samples$Today)))"
   ]
  },
  {
   "cell_type": "markdown",
   "metadata": {},
   "source": [
    "Clearly, the minimum value of _Today_ for upsamples is greater than the maximum value of _Today_ for Down Samples. This leads to a regression curve of infinite slope and negative infinite intercept. So we remove this column for now and retrain our model."
   ]
  },
  {
   "cell_type": "code",
   "execution_count": 151,
   "metadata": {},
   "outputs": [
    {
     "data": {
      "text/plain": [
       "\n",
       "Call:\n",
       "glm(formula = paste(response, \"~\", covariates), family = binomial, \n",
       "    data = Weekly)\n",
       "\n",
       "Deviance Residuals: \n",
       "    Min       1Q   Median       3Q      Max  \n",
       "-1.6949  -1.2565   0.9913   1.0849   1.4579  \n",
       "\n",
       "Coefficients:\n",
       "            Estimate Std. Error z value Pr(>|z|)   \n",
       "(Intercept)  0.26686    0.08593   3.106   0.0019 **\n",
       "Lag1        -0.04127    0.02641  -1.563   0.1181   \n",
       "Lag2         0.05844    0.02686   2.175   0.0296 * \n",
       "Lag3        -0.01606    0.02666  -0.602   0.5469   \n",
       "Lag4        -0.02779    0.02646  -1.050   0.2937   \n",
       "Lag5        -0.01447    0.02638  -0.549   0.5833   \n",
       "Volume      -0.02274    0.03690  -0.616   0.5377   \n",
       "---\n",
       "Signif. codes:  0 ‘***’ 0.001 ‘**’ 0.01 ‘*’ 0.05 ‘.’ 0.1 ‘ ’ 1\n",
       "\n",
       "(Dispersion parameter for binomial family taken to be 1)\n",
       "\n",
       "    Null deviance: 1496.2  on 1088  degrees of freedom\n",
       "Residual deviance: 1486.4  on 1082  degrees of freedom\n",
       "AIC: 1500.4\n",
       "\n",
       "Number of Fisher Scoring iterations: 4\n"
      ]
     },
     "metadata": {},
     "output_type": "display_data"
    }
   ],
   "source": [
    "cols = names(Weekly[2:7]) #Excluding Year\n",
    "covariates = paste(cols, collapse=\"+\")\n",
    "response = names(Weekly[length(Weekly)])\n",
    "\n",
    "model = glm(paste(response,\"~\",covariates), \n",
    "    data=Weekly,\n",
    "    family=binomial)\n",
    "\n",
    "summary(model)"
   ]
  },
  {
   "cell_type": "markdown",
   "metadata": {},
   "source": [
    "The Null hypothesis $H_0$ is states that the coefficients associated with a variable $X_i$ to Predict the response variable $y$ is 0. \n",
    "\n",
    "$$\n",
    "H_0: \\textit{No Relationship between Predictor } X_i \\textit{ and response variable } y\n",
    "$$\n",
    "\n",
    "We reject the null bypothesis for $p<0.05$. Of the Coefficients above, only **Lag 2** is statistically significant, evidenced by it's small p-value of **2.96%**.\n",
    "\n",
    "---"
   ]
  },
  {
   "cell_type": "markdown",
   "metadata": {},
   "source": [
    "_10 (c) Compute the confusion matrix and overall fraction of correct predictions. Explain what the confusion matrix is telling you about the types of mistakes made by logistic regression._\n",
    "\n"
   ]
  },
  {
   "cell_type": "code",
   "execution_count": 159,
   "metadata": {
    "collapsed": true
   },
   "outputs": [],
   "source": [
    "probs = predict(model, type=\"response\")\n",
    "predictions = rep(\"Down\", length(probs))\n",
    "predictions[probs > 0.5] = \"Up\""
   ]
  },
  {
   "cell_type": "code",
   "execution_count": 161,
   "metadata": {},
   "outputs": [
    {
     "data": {
      "text/plain": [
       "           \n",
       "predictions Down  Up\n",
       "       Down   54  48\n",
       "       Up    430 557"
      ]
     },
     "metadata": {},
     "output_type": "display_data"
    }
   ],
   "source": [
    "table(predictions, Weekly$Direction)"
   ]
  },
  {
   "cell_type": "code",
   "execution_count": 162,
   "metadata": {},
   "outputs": [
    {
     "data": {
      "text/html": [
       "0.568981064021641"
      ],
      "text/latex": [
       "0.568981064021641"
      ],
      "text/markdown": [
       "0.568981064021641"
      ],
      "text/plain": [
       "[1] 0.5689811"
      ]
     },
     "metadata": {},
     "output_type": "display_data"
    }
   ],
   "source": [
    "(54+577)/(54+577+48+430)"
   ]
  },
  {
   "cell_type": "markdown",
   "metadata": {},
   "source": [
    "This classifier has a training error rate of $100-56.9 = \\textit{43.1%} $. But Training error usually underestimates performance of the classifier. The confusion matrix above displays predictions along the rows and the actual values along the columns."
   ]
  },
  {
   "cell_type": "markdown",
   "metadata": {},
   "source": [
    "Considering that the _Down_ category as the _positive_ class, we can compute the following performance measures:\n",
    "$$\n",
    "Precision = \\frac{TP}{TP + FP} = \\frac{54}{54 + 48} = 0.5294\n",
    "$$\n",
    "\n",
    "$$\n",
    "Recall = \\frac{TP}{TP + FN} = \\frac{54}{54 + 430} = 0.1115\n",
    "$$\n",
    "\n",
    "$$\n",
    "F-Measure = \\frac{2PR}{P+R} = \\frac{2 \\times 0.5294 \\times 0.1115}{0.5294+ 0.1115} = 0.1842\n",
    "$$"
   ]
  },
  {
   "cell_type": "markdown",
   "metadata": {},
   "source": [
    "From these metrics, we garner logistic regression is not accurately predicting the days on which the predicted _Direction_ is actually down (evidenced by low precision).\n",
    "\n",
    "---"
   ]
  },
  {
   "cell_type": "markdown",
   "metadata": {},
   "source": [
    "_10 (d) Now fit the logistic regression model using a training data period from 1990 to 2008, with Lag2 as the only predictor. Compute the confusion matrix and the overall fraction of correct predictions for the held out data (that is, the data from 2009 and 2010)._"
   ]
  },
  {
   "cell_type": "markdown",
   "metadata": {},
   "source": [
    "In the previous subsections, we trained and tested against tested against the same data. But we will now perform the _Validation Set Approach_ for cross validation by holding back some training data. First, we will get rid of all predictors except Lag 2."
   ]
  },
  {
   "cell_type": "code",
   "execution_count": 3,
   "metadata": {},
   "outputs": [
    {
     "data": {
      "text/html": [
       "<table>\n",
       "<thead><tr><th scope=col>Year</th><th scope=col>Lag2</th><th scope=col>Direction</th></tr></thead>\n",
       "<tbody>\n",
       "\t<tr><td>1990  </td><td> 1.572</td><td>Down  </td></tr>\n",
       "\t<tr><td>1990  </td><td> 0.816</td><td>Down  </td></tr>\n",
       "\t<tr><td>1990  </td><td>-0.270</td><td>Up    </td></tr>\n",
       "\t<tr><td>1990  </td><td>-2.576</td><td>Up    </td></tr>\n",
       "\t<tr><td>1990  </td><td> 3.514</td><td>Up    </td></tr>\n",
       "\t<tr><td>1990  </td><td> 0.712</td><td>Down  </td></tr>\n",
       "</tbody>\n",
       "</table>\n"
      ],
      "text/latex": [
       "\\begin{tabular}{r|lll}\n",
       " Year & Lag2 & Direction\\\\\n",
       "\\hline\n",
       "\t 1990   &  1.572 & Down  \\\\\n",
       "\t 1990   &  0.816 & Down  \\\\\n",
       "\t 1990   & -0.270 & Up    \\\\\n",
       "\t 1990   & -2.576 & Up    \\\\\n",
       "\t 1990   &  3.514 & Up    \\\\\n",
       "\t 1990   &  0.712 & Down  \\\\\n",
       "\\end{tabular}\n"
      ],
      "text/markdown": [
       "\n",
       "Year | Lag2 | Direction | \n",
       "|---|---|---|---|---|---|\n",
       "| 1990   |  1.572 | Down   | \n",
       "| 1990   |  0.816 | Down   | \n",
       "| 1990   | -0.270 | Up     | \n",
       "| 1990   | -2.576 | Up     | \n",
       "| 1990   |  3.514 | Up     | \n",
       "| 1990   |  0.712 | Down   | \n",
       "\n",
       "\n"
      ],
      "text/plain": [
       "  Year Lag2   Direction\n",
       "1 1990  1.572 Down     \n",
       "2 1990  0.816 Down     \n",
       "3 1990 -0.270 Up       \n",
       "4 1990 -2.576 Up       \n",
       "5 1990  3.514 Up       \n",
       "6 1990  0.712 Down     "
      ]
     },
     "metadata": {},
     "output_type": "display_data"
    }
   ],
   "source": [
    "data = Weekly[c(1,3,length(names(Weekly)))] #Get Rid of all Predictors Except Lag2 and Year\n",
    "head(data)"
   ]
  },
  {
   "cell_type": "markdown",
   "metadata": {},
   "source": [
    "We now split the data into train and test (or validation) sets. and get rid of the Year Covariate (1st Column)."
   ]
  },
  {
   "cell_type": "code",
   "execution_count": 4,
   "metadata": {},
   "outputs": [
    {
     "data": {
      "text/html": [
       "<ol class=list-inline>\n",
       "\t<li>1037</li>\n",
       "\t<li>2</li>\n",
       "</ol>\n"
      ],
      "text/latex": [
       "\\begin{enumerate*}\n",
       "\\item 1037\n",
       "\\item 2\n",
       "\\end{enumerate*}\n"
      ],
      "text/markdown": [
       "1. 1037\n",
       "2. 2\n",
       "\n",
       "\n"
      ],
      "text/plain": [
       "[1] 1037    2"
      ]
     },
     "metadata": {},
     "output_type": "display_data"
    },
    {
     "data": {
      "text/html": [
       "<ol class=list-inline>\n",
       "\t<li>52</li>\n",
       "\t<li>2</li>\n",
       "</ol>\n"
      ],
      "text/latex": [
       "\\begin{enumerate*}\n",
       "\\item 52\n",
       "\\item 2\n",
       "\\end{enumerate*}\n"
      ],
      "text/markdown": [
       "1. 52\n",
       "2. 2\n",
       "\n",
       "\n"
      ],
      "text/plain": [
       "[1] 52  2"
      ]
     },
     "metadata": {},
     "output_type": "display_data"
    }
   ],
   "source": [
    "train = data[data['Year'] != 2009,-1]\n",
    "test = data[data['Year'] == 2009,-1]\n",
    "dim(train)\n",
    "dim(test)"
   ]
  },
  {
   "cell_type": "markdown",
   "metadata": {},
   "source": [
    "When reduced to a single column, the _test_ set gets converted from a _data.frame_ object to it's constitutent type _numeric_. I need to prederve the data.frame object to make predictions using the _predict_ method."
   ]
  },
  {
   "cell_type": "code",
   "execution_count": 234,
   "metadata": {
    "collapsed": true
   },
   "outputs": [],
   "source": [
    "X_test = data.frame(Lag2=test[,-2]) #Convert vector to a data.frame"
   ]
  },
  {
   "cell_type": "code",
   "execution_count": 233,
   "metadata": {},
   "outputs": [
    {
     "data": {
      "text/plain": [
       "           \n",
       "predictions Down Up\n",
       "       Down    4  4\n",
       "       Up     19 25"
      ]
     },
     "metadata": {},
     "output_type": "display_data"
    }
   ],
   "source": [
    "model = glm(Direction~Lag2 ,data=train, family=binomial)\n",
    "probs = predict(model, X_test, type=\"response\")\n",
    "predictions = rep(\"Down\", nrow(X_test))\n",
    "predictions[probs > 0.5] = \"Up\"\n",
    "\n",
    "table(predictions, test[,-1])"
   ]
  },
  {
   "cell_type": "markdown",
   "metadata": {},
   "source": [
    "We can compute testing accuracy:\n",
    "\n",
    "$$\n",
    "\\textit{Simple Accuracy} = \\frac{TP + TN}{TP + TN + FP + FN} = \\frac{4+25}{4+25+4+19} = 0.5576 = \\textbf{55.76%}\n",
    "$$\n",
    "\n",
    "Let us also take a look at the precision, recall, and F-Measure.\n",
    "\n",
    "$$\n",
    "Precision = \\frac{TP}{TP + FP} = \\frac{4}{4 + 4} = 0.5\n",
    "$$\n",
    "\n",
    "$$\n",
    "Recall = \\frac{TP}{TP + FN} = \\frac{4}{4 + 19} = 0.1739\n",
    "$$\n",
    "\n",
    "$$\n",
    "F-Measure = \\frac{2PR}{P+R} = \\frac{2 \\times 0.5 \\times 0.1739}{0.5 + 0.1739} = 0.258\n",
    "$$\n",
    "\n",
    "This would be better than the testing performance on the same data when all predictors are considered. Like I mentioned before, **Lag2** is the only predictor that was statistically significant. "
   ]
  },
  {
   "cell_type": "markdown",
   "metadata": {},
   "source": [
    "---\n",
    "_10 (e) Repeat (d) using LDA_"
   ]
  },
  {
   "cell_type": "code",
   "execution_count": 241,
   "metadata": {
    "scrolled": true
   },
   "outputs": [
    {
     "data": {
      "text/plain": [
       "      \n",
       "       Down Up\n",
       "  Down    4  4\n",
       "  Up     19 25"
      ]
     },
     "metadata": {},
     "output_type": "display_data"
    }
   ],
   "source": [
    "model = lda(Direction~Lag2 ,data=train)\n",
    "predictions = predict(model, X_test)\n",
    "table(predictions$class, test[,-1])"
   ]
  },
  {
   "cell_type": "markdown",
   "metadata": {},
   "source": [
    "Logistic Regression and LDA have similar performances for prediction of _Direction_ given _Lag2_"
   ]
  },
  {
   "cell_type": "markdown",
   "metadata": {},
   "source": [
    "_10 (f) Repeat (d) using QDA_"
   ]
  },
  {
   "cell_type": "code",
   "execution_count": 242,
   "metadata": {
    "scrolled": true
   },
   "outputs": [
    {
     "data": {
      "text/plain": [
       "      \n",
       "       Down Up\n",
       "  Down    0  0\n",
       "  Up     23 29"
      ]
     },
     "metadata": {},
     "output_type": "display_data"
    }
   ],
   "source": [
    "model = qda(Direction~Lag2 ,data=train)\n",
    "predictions = predict(model, X_test)\n",
    "table(predictions$class, test[,-1])"
   ]
  },
  {
   "cell_type": "markdown",
   "metadata": {},
   "source": [
    "QDA only predicts an upward trend for every sample\n",
    "\n",
    "$$\n",
    "\\textit{Simple Accuracy} = \\frac{TP + TN}{TP + TN + FP + FN} = \\frac{0+29}{0+29+0+23} = 0.5576 = \\textbf{55.76%}\n",
    "$$\n",
    "\n",
    "We still get the same (still poor) performance.\n",
    "\n",
    "---"
   ]
  },
  {
   "cell_type": "markdown",
   "metadata": {},
   "source": [
    "_10 (g) Repeat (d) with KNN taking K=1._\n",
    "\n",
    "We need to provide 4 parameters to _knn()_:\n",
    "- Training Predictors\n",
    "- Testing Predictors\n",
    "- Training Labels\n",
    "- K\n"
   ]
  },
  {
   "cell_type": "code",
   "execution_count": 13,
   "metadata": {},
   "outputs": [
    {
     "data": {
      "text/plain": [
       "           y_test\n",
       "predictions Down Up\n",
       "       Down   13 15\n",
       "       Up     10 14"
      ]
     },
     "metadata": {},
     "output_type": "display_data"
    }
   ],
   "source": [
    "library(class)\n",
    "X_train = data.frame(Lag2=train[,1])\n",
    "X_test = data.frame(Lag2=test[,1])\n",
    "y_train = train[,2]\n",
    "y_test = test[,2]\n",
    "\n",
    "predictions = knn(X_train, X_test, y_train, k=k)\n",
    "table(predictions, y_test)"
   ]
  },
  {
   "cell_type": "markdown",
   "metadata": {},
   "source": [
    "The response variable needs to be a vector, not a data.frame. Considering _Down_ as the _positive_ class, let us take a look at simple accuracy:\n",
    "\n",
    "$$\n",
    "\\textit{Simple Accuracy} = \\frac{TP + TN}{TP + TN + FP + FN} = \\frac{13+14}{13+14+15+10} = 0.5192 = \\textbf{51.92%}\n",
    "$$\n",
    "\n",
    "Let us also take a look at the precision, recall, and F-Measure.\n",
    "\n",
    "$$\n",
    "Precision = \\frac{TP}{TP + FP} = \\frac{13}{13 + 15} = 0.4642\n",
    "$$\n",
    "\n",
    "$$\n",
    "Recall = \\frac{TP}{TP + FN} = \\frac{13}{13 + 10} = 0.5652\n",
    "$$\n",
    "\n",
    "$$\n",
    "F-Measure = \\frac{2PR}{P+R} = \\frac{2 \\times 0.4642 \\times 0.5652}{0.4642 + 0.5652} = 0.5097\n",
    "$$"
   ]
  },
  {
   "cell_type": "markdown",
   "metadata": {},
   "source": [
    "_10 (h) Which of these methods appears to provide the best results on this data?_\n",
    "\n",
    "Logistic Regression, LDA, and QDA give the same testing accuracy of $55.76$. However, the nature of the results of QDA is different from the other two. QDA only predicted a positive return for the market on a given week, regardless of the percentage return for the last 2 weeks _Lag2_.\n",
    "\n",
    "$$\n",
    "Precision_{QDA} = \\frac{TP}{TP + FP} = \\frac{0}{0+23} = \\textbf{0}\n",
    "$$\n",
    "\n",
    "Although they have the same simple accuracy, QDA has 0 precision which makes this even worse than the other 2. LDA and Logistic regression have the same confusion matrix, hence the same performance measures. KNN with K=1 delivers with lower simple accuracy, but a higher F-Measure.\n",
    "\n",
    "---"
   ]
  },
  {
   "cell_type": "markdown",
   "metadata": {},
   "source": [
    "_10 (i) Experiment with different combinations of predictors, including possible transformations and interactions, for each of the methods. Report the variables, method, and associated confusion matrix that appears to provide the best results on the held out data. Note that you should also experiment with values for K in the KNN classifier._"
   ]
  },
  {
   "cell_type": "code",
   "execution_count": 4,
   "metadata": {},
   "outputs": [
    {
     "data": {
      "text/html": [
       "<ol class=list-inline>\n",
       "\t<li>'Year'</li>\n",
       "\t<li>'Lag1'</li>\n",
       "\t<li>'Lag2'</li>\n",
       "\t<li>'Lag3'</li>\n",
       "\t<li>'Lag4'</li>\n",
       "\t<li>'Lag5'</li>\n",
       "\t<li>'Volume'</li>\n",
       "\t<li>'Today'</li>\n",
       "\t<li>'Direction'</li>\n",
       "</ol>\n"
      ],
      "text/latex": [
       "\\begin{enumerate*}\n",
       "\\item 'Year'\n",
       "\\item 'Lag1'\n",
       "\\item 'Lag2'\n",
       "\\item 'Lag3'\n",
       "\\item 'Lag4'\n",
       "\\item 'Lag5'\n",
       "\\item 'Volume'\n",
       "\\item 'Today'\n",
       "\\item 'Direction'\n",
       "\\end{enumerate*}\n"
      ],
      "text/markdown": [
       "1. 'Year'\n",
       "2. 'Lag1'\n",
       "3. 'Lag2'\n",
       "4. 'Lag3'\n",
       "5. 'Lag4'\n",
       "6. 'Lag5'\n",
       "7. 'Volume'\n",
       "8. 'Today'\n",
       "9. 'Direction'\n",
       "\n",
       "\n"
      ],
      "text/plain": [
       "[1] \"Year\"      \"Lag1\"      \"Lag2\"      \"Lag3\"      \"Lag4\"      \"Lag5\"     \n",
       "[7] \"Volume\"    \"Today\"     \"Direction\""
      ]
     },
     "metadata": {},
     "output_type": "display_data"
    }
   ],
   "source": [
    "names(Weekly)"
   ]
  },
  {
   "cell_type": "markdown",
   "metadata": {},
   "source": [
    "Let us try Logistic Regression. We split the data into test and train sets such that all observations recorded after 2007 are a part of the test set. Anything recorded earlier is in our train set."
   ]
  },
  {
   "cell_type": "code",
   "execution_count": 12,
   "metadata": {},
   "outputs": [
    {
     "data": {
      "text/html": [
       "<ol class=list-inline>\n",
       "\t<li>933</li>\n",
       "\t<li>9</li>\n",
       "</ol>\n"
      ],
      "text/latex": [
       "\\begin{enumerate*}\n",
       "\\item 933\n",
       "\\item 9\n",
       "\\end{enumerate*}\n"
      ],
      "text/markdown": [
       "1. 933\n",
       "2. 9\n",
       "\n",
       "\n"
      ],
      "text/plain": [
       "[1] 933   9"
      ]
     },
     "metadata": {},
     "output_type": "display_data"
    },
    {
     "data": {
      "text/html": [
       "<ol class=list-inline>\n",
       "\t<li>156</li>\n",
       "\t<li>9</li>\n",
       "</ol>\n"
      ],
      "text/latex": [
       "\\begin{enumerate*}\n",
       "\\item 156\n",
       "\\item 9\n",
       "\\end{enumerate*}\n"
      ],
      "text/markdown": [
       "1. 156\n",
       "2. 9\n",
       "\n",
       "\n"
      ],
      "text/plain": [
       "[1] 156   9"
      ]
     },
     "metadata": {},
     "output_type": "display_data"
    }
   ],
   "source": [
    "train = Weekly[Weekly$Year < 2008, ]\n",
    "test = Weekly[Weekly$Year >= 2008, ]\n",
    "\n",
    "dim(train)\n",
    "dim(test)"
   ]
  },
  {
   "cell_type": "markdown",
   "metadata": {},
   "source": [
    "Let us eliminate _Today_ and the response variable _Direction_ from the model fitting process. "
   ]
  },
  {
   "cell_type": "code",
   "execution_count": 47,
   "metadata": {},
   "outputs": [
    {
     "data": {
      "text/plain": [
       "      \n",
       "preds  Up Down\n",
       "  Up   77   65\n",
       "  Down  7    7"
      ]
     },
     "metadata": {},
     "output_type": "display_data"
    }
   ],
   "source": [
    "glm.fit = glm(Direction~.-Today-Direction, data=train, family=\"binomial\")\n",
    "glm.predictions = predict(glm.fit, test[,-c(length(test))], type=\"response\")\n",
    "preds = rep(\"Down\", nrow(test))\n",
    "preds[glm.predictions >= 0.5] = \"Up\"\n",
    "table(preds, test[,length(test)])[2:1, 2:1]"
   ]
  },
  {
   "cell_type": "markdown",
   "metadata": {},
   "source": [
    "**Interaction variables** constitute a product of covariates. Let us start with the _Lag1_ and _Lag2_ because the percentage returns from 1 week and 2 weeks previous may exhibit synergy."
   ]
  },
  {
   "cell_type": "code",
   "execution_count": 80,
   "metadata": {},
   "outputs": [
    {
     "data": {
      "text/plain": [
       "      \n",
       "preds  Up Down\n",
       "  Up   76   67\n",
       "  Down  8    5"
      ]
     },
     "metadata": {},
     "output_type": "display_data"
    }
   ],
   "source": [
    "glm.fit = glm(Direction~.+Lag1*Lag2-Today-Direction, data=train, family=\"binomial\")\n",
    "glm.predictions = predict(glm.fit, test[,-c(length(test))], type=\"response\")\n",
    "preds = rep(\"Down\", nrow(test))\n",
    "preds[glm.predictions >= 0.5] = \"Up\"\n",
    "table(preds, test[,length(test)])[2:1, 2:1]"
   ]
  },
  {
   "cell_type": "markdown",
   "metadata": {},
   "source": [
    "Not Quite. After trying out a combination of Lag variables, the best one was _Lag3_ and _Lag5_."
   ]
  },
  {
   "cell_type": "code",
   "execution_count": 81,
   "metadata": {},
   "outputs": [
    {
     "data": {
      "text/plain": [
       "      \n",
       "preds  Up Down\n",
       "  Up   78   66\n",
       "  Down  6    6"
      ]
     },
     "metadata": {},
     "output_type": "display_data"
    }
   ],
   "source": [
    "glm.fit = glm(Direction~.+Lag3*Lag5-Today-Direction, data=train, family=\"binomial\")\n",
    "glm.predictions = predict(glm.fit, test[,-c(length(test))], type=\"response\")\n",
    "preds = rep(\"Down\", nrow(test))\n",
    "preds[glm.predictions >= 0.5] = \"Up\"\n",
    "table(preds, test[,length(test)])[2:1, 2:1]"
   ]
  },
  {
   "cell_type": "code",
   "execution_count": 82,
   "metadata": {},
   "outputs": [
    {
     "data": {
      "text/plain": [
       "\n",
       "Call:\n",
       "glm(formula = Direction ~ . + Lag3 * Lag5 - Today - Direction, \n",
       "    family = \"binomial\", data = train)\n",
       "\n",
       "Deviance Residuals: \n",
       "    Min       1Q   Median       3Q      Max  \n",
       "-1.5835  -1.2557   0.9771   1.0820   1.4675  \n",
       "\n",
       "Coefficients:\n",
       "             Estimate Std. Error z value Pr(>|z|)  \n",
       "(Intercept) 48.810222  58.018197   0.841   0.4002  \n",
       "Year        -0.024345   0.029110  -0.836   0.4030  \n",
       "Lag1        -0.049224   0.032815  -1.500   0.1336  \n",
       "Lag2         0.041901   0.033141   1.264   0.2061  \n",
       "Lag3        -0.010810   0.033136  -0.326   0.7443  \n",
       "Lag4        -0.031887   0.032804  -0.972   0.3310  \n",
       "Lag5        -0.059069   0.033675  -1.754   0.0794 .\n",
       "Volume       0.100569   0.176959   0.568   0.5698  \n",
       "Lag3:Lag5    0.008944   0.014423   0.620   0.5352  \n",
       "---\n",
       "Signif. codes:  0 ‘***’ 0.001 ‘**’ 0.01 ‘*’ 0.05 ‘.’ 0.1 ‘ ’ 1\n",
       "\n",
       "(Dispersion parameter for binomial family taken to be 1)\n",
       "\n",
       "    Null deviance: 1280.6  on 932  degrees of freedom\n",
       "Residual deviance: 1271.4  on 924  degrees of freedom\n",
       "AIC: 1289.4\n",
       "\n",
       "Number of Fisher Scoring iterations: 4\n"
      ]
     },
     "metadata": {},
     "output_type": "display_data"
    }
   ],
   "source": [
    "summary(glm.fit)"
   ]
  },
  {
   "cell_type": "markdown",
   "metadata": {},
   "source": [
    "**Observation**: Why did the performance increase when none of these coefficients are significant? "
   ]
  },
  {
   "cell_type": "markdown",
   "metadata": {},
   "source": [
    "Now we will consider polynomial variables. We first just consider the best term _Lag5_. "
   ]
  },
  {
   "cell_type": "code",
   "execution_count": 14,
   "metadata": {},
   "outputs": [
    {
     "data": {
      "text/plain": [
       "      \n",
       "preds  Up Down\n",
       "  Up   81   65\n",
       "  Down  3    7"
      ]
     },
     "metadata": {},
     "output_type": "display_data"
    }
   ],
   "source": [
    "glm.fit = glm(Direction~.+Lag5+I(Lag5^2)-Today-Direction, data=train, family=\"binomial\")\n",
    "glm.predictions = predict(glm.fit, test[,-c(length(test))], type=\"response\")\n",
    "preds = rep(\"Down\", nrow(test))\n",
    "preds[glm.predictions >= 0.5] = \"Up\"\n",
    "table(preds, test[,length(test)])[2:1, 2:1]"
   ]
  },
  {
   "cell_type": "markdown",
   "metadata": {},
   "source": [
    "It looks like there is an uptick in performance when the usual covariates and and $Lag5^2$ are used as covariates."
   ]
  },
  {
   "cell_type": "code",
   "execution_count": 15,
   "metadata": {},
   "outputs": [
    {
     "data": {
      "text/plain": [
       "\n",
       "Call:\n",
       "glm(formula = Direction ~ . + Lag5 + I(Lag5^2) - Today - Direction, \n",
       "    family = \"binomial\", data = train)\n",
       "\n",
       "Deviance Residuals: \n",
       "    Min       1Q   Median       3Q      Max  \n",
       "-1.6482  -1.2532   0.9767   1.0839   1.4523  \n",
       "\n",
       "Coefficients:\n",
       "             Estimate Std. Error z value Pr(>|z|)\n",
       "(Intercept) 50.655309  58.150469   0.871    0.384\n",
       "Year        -0.025279   0.029177  -0.866    0.386\n",
       "Lag1        -0.049618   0.032825  -1.512    0.131\n",
       "Lag2         0.042842   0.033047   1.296    0.195\n",
       "Lag3        -0.015352   0.032959  -0.466    0.641\n",
       "Lag4        -0.033882   0.032994  -1.027    0.304\n",
       "Lag5        -0.053641   0.032875  -1.632    0.103\n",
       "Volume       0.103061   0.177171   0.582    0.561\n",
       "I(Lag5^2)    0.004843   0.007992   0.606    0.545\n",
       "\n",
       "(Dispersion parameter for binomial family taken to be 1)\n",
       "\n",
       "    Null deviance: 1280.6  on 932  degrees of freedom\n",
       "Residual deviance: 1271.4  on 924  degrees of freedom\n",
       "AIC: 1289.4\n",
       "\n",
       "Number of Fisher Scoring iterations: 4\n"
      ]
     },
     "metadata": {},
     "output_type": "display_data"
    }
   ],
   "source": [
    "summary(glm.fit)"
   ]
  },
  {
   "cell_type": "markdown",
   "metadata": {},
   "source": [
    "Let us see model performance with Linear Discriminant Analysis."
   ]
  },
  {
   "cell_type": "code",
   "execution_count": 23,
   "metadata": {},
   "outputs": [
    {
     "data": {
      "text/plain": [
       "      \n",
       "       Up Down\n",
       "  Up   84    6\n",
       "  Down  0   66"
      ]
     },
     "metadata": {},
     "output_type": "display_data"
    }
   ],
   "source": [
    "model = lda(Direction~.,data=train)\n",
    "predictions = predict(model,  test[,-c(length(test))])\n",
    "table(predictions$class, test[,length(test)])[2:1,2:1]"
   ]
  },
  {
   "cell_type": "markdown",
   "metadata": {},
   "source": [
    "We got rid of most of the False Positives seen in Logistic Regression. The addition of polnomial terms doesn't seem to help much."
   ]
  },
  {
   "cell_type": "code",
   "execution_count": 38,
   "metadata": {},
   "outputs": [
    {
     "name": "stdout",
     "output_type": "stream",
     "text": [
      "[1] \"Adding Lag1^2\"\n"
     ]
    },
    {
     "data": {
      "text/plain": [
       "      \n",
       "       Up Down\n",
       "  Up   84    6\n",
       "  Down  0   66"
      ]
     },
     "metadata": {},
     "output_type": "display_data"
    },
    {
     "name": "stdout",
     "output_type": "stream",
     "text": [
      "[1] \"Adding Lag2^2\"\n"
     ]
    },
    {
     "data": {
      "text/plain": [
       "      \n",
       "       Up Down\n",
       "  Up   84    6\n",
       "  Down  0   66"
      ]
     },
     "metadata": {},
     "output_type": "display_data"
    },
    {
     "name": "stdout",
     "output_type": "stream",
     "text": [
      "[1] \"Adding Lag3^2\"\n"
     ]
    },
    {
     "data": {
      "text/plain": [
       "      \n",
       "       Up Down\n",
       "  Up   84    7\n",
       "  Down  0   65"
      ]
     },
     "metadata": {},
     "output_type": "display_data"
    },
    {
     "name": "stdout",
     "output_type": "stream",
     "text": [
      "[1] \"Adding Lag4^2\"\n"
     ]
    },
    {
     "data": {
      "text/plain": [
       "      \n",
       "       Up Down\n",
       "  Up   84    6\n",
       "  Down  0   66"
      ]
     },
     "metadata": {},
     "output_type": "display_data"
    },
    {
     "name": "stdout",
     "output_type": "stream",
     "text": [
      "[1] \"Adding Lag5^2\"\n"
     ]
    },
    {
     "data": {
      "text/plain": [
       "      \n",
       "       Up Down\n",
       "  Up   84    7\n",
       "  Down  0   65"
      ]
     },
     "metadata": {},
     "output_type": "display_data"
    },
    {
     "name": "stdout",
     "output_type": "stream",
     "text": [
      "[1] \"Adding Volume^2\"\n"
     ]
    },
    {
     "data": {
      "text/plain": [
       "      \n",
       "       Up Down\n",
       "  Up   84   14\n",
       "  Down  0   58"
      ]
     },
     "metadata": {},
     "output_type": "display_data"
    }
   ],
   "source": [
    "print_table = function (model, param){\n",
    "   print(param)\n",
    "   predictions = predict(model,  test[,-c(length(test))])\n",
    "   table(predictions$class, test[,length(test)])[2:1,2:1] \n",
    "}\n",
    "\n",
    "#Adding Lag1^2\n",
    "model = lda(Direction~.+I(Lag1^2),data=train)\n",
    "print_table(model, \"Adding Lag1^2\")\n",
    "\n",
    "model = lda(Direction~.+I(Lag2^2),data=train)\n",
    "print_table(model, \"Adding Lag2^2\")\n",
    "\n",
    "model = lda(Direction~.+I(Lag3^2),data=train)\n",
    "print_table(model, \"Adding Lag3^2\")\n",
    "\n",
    "model = lda(Direction~.+I(Lag4^2),data=train)\n",
    "print_table(model, \"Adding Lag4^2\")\n",
    "\n",
    "model = lda(Direction~.+I(Lag5^2),data=train)\n",
    "print_table(model, \"Adding Lag5^2\")\n",
    "\n",
    "model = lda(Direction~.+I(Volume^2),data=train)\n",
    "print_table(model, \"Adding Volume^2\")"
   ]
  },
  {
   "cell_type": "markdown",
   "metadata": {},
   "source": [
    "Let us see how QDA classifies the direction."
   ]
  },
  {
   "cell_type": "code",
   "execution_count": 40,
   "metadata": {},
   "outputs": [
    {
     "name": "stdout",
     "output_type": "stream",
     "text": [
      "[1] \"Normal Model with All variables\"\n"
     ]
    },
    {
     "data": {
      "text/plain": [
       "      \n",
       "       Up Down\n",
       "  Up   80   16\n",
       "  Down  4   56"
      ]
     },
     "metadata": {},
     "output_type": "display_data"
    }
   ],
   "source": [
    "model = qda(Direction~.,data=train)\n",
    "print_table(model, \"Normal Model with All variables\")"
   ]
  },
  {
   "cell_type": "markdown",
   "metadata": {},
   "source": [
    "We have a significant number of false positives. Furthermore, adding polynomial terms only hampers performance."
   ]
  },
  {
   "cell_type": "code",
   "execution_count": 41,
   "metadata": {},
   "outputs": [
    {
     "name": "stdout",
     "output_type": "stream",
     "text": [
      "[1] \"Adding Lag1^2\"\n"
     ]
    },
    {
     "data": {
      "text/plain": [
       "      \n",
       "       Up Down\n",
       "  Up   78   18\n",
       "  Down  6   54"
      ]
     },
     "metadata": {},
     "output_type": "display_data"
    },
    {
     "name": "stdout",
     "output_type": "stream",
     "text": [
      "[1] \"Adding Lag2^2\"\n"
     ]
    },
    {
     "data": {
      "text/plain": [
       "      \n",
       "       Up Down\n",
       "  Up   77   20\n",
       "  Down  7   52"
      ]
     },
     "metadata": {},
     "output_type": "display_data"
    },
    {
     "name": "stdout",
     "output_type": "stream",
     "text": [
      "[1] \"Adding Lag3^2\"\n"
     ]
    },
    {
     "data": {
      "text/plain": [
       "      \n",
       "       Up Down\n",
       "  Up   79   18\n",
       "  Down  5   54"
      ]
     },
     "metadata": {},
     "output_type": "display_data"
    },
    {
     "name": "stdout",
     "output_type": "stream",
     "text": [
      "[1] \"Adding Lag4^2\"\n"
     ]
    },
    {
     "data": {
      "text/plain": [
       "      \n",
       "       Up Down\n",
       "  Up   80   23\n",
       "  Down  4   49"
      ]
     },
     "metadata": {},
     "output_type": "display_data"
    },
    {
     "name": "stdout",
     "output_type": "stream",
     "text": [
      "[1] \"Adding Lag5^2\"\n"
     ]
    },
    {
     "data": {
      "text/plain": [
       "      \n",
       "       Up Down\n",
       "  Up   81   15\n",
       "  Down  3   57"
      ]
     },
     "metadata": {},
     "output_type": "display_data"
    },
    {
     "name": "stdout",
     "output_type": "stream",
     "text": [
      "[1] \"Adding Volume^2\"\n"
     ]
    },
    {
     "data": {
      "text/plain": [
       "      \n",
       "       Up Down\n",
       "  Up    8    0\n",
       "  Down 76   72"
      ]
     },
     "metadata": {},
     "output_type": "display_data"
    }
   ],
   "source": [
    "model = qda(Direction~.+I(Lag1^2),data=train)\n",
    "print_table(model, \"Adding Lag1^2\")\n",
    "\n",
    "model = qda(Direction~.+I(Lag2^2),data=train)\n",
    "print_table(model, \"Adding Lag2^2\")\n",
    "\n",
    "model = qda(Direction~.+I(Lag3^2),data=train)\n",
    "print_table(model, \"Adding Lag3^2\")\n",
    "\n",
    "model = qda(Direction~.+I(Lag4^2),data=train)\n",
    "print_table(model, \"Adding Lag4^2\")\n",
    "\n",
    "model = qda(Direction~.+I(Lag5^2),data=train)\n",
    "print_table(model, \"Adding Lag5^2\")\n",
    "\n",
    "model = qda(Direction~.+I(Volume^2),data=train)\n",
    "print_table(model, \"Adding Volume^2\")"
   ]
  },
  {
   "cell_type": "markdown",
   "metadata": {},
   "source": [
    "**Observation**: Wow! Adding a $Volume^2$ Term dramatically increased the number of false negatives! "
   ]
  },
  {
   "cell_type": "markdown",
   "metadata": {},
   "source": [
    "Let us see the performance of KNN on this dataset. Initially, I consider $k=5$."
   ]
  },
  {
   "cell_type": "code",
   "execution_count": 22,
   "metadata": {},
   "outputs": [
    {
     "data": {
      "text/plain": [
       "           y_test\n",
       "predictions Down Up\n",
       "       Down   56  9\n",
       "       Up     16 75"
      ]
     },
     "metadata": {},
     "output_type": "display_data"
    }
   ],
   "source": [
    "library(class)\n",
    "X_train = train[,-length(train)]\n",
    "X_test = test[,-c(length(test))]\n",
    "y_train = train[,length(train)]\n",
    "y_test = test[,length(test)]\n",
    "\n",
    "predictions = knn(X_train, X_test, y_train, k=5)\n",
    "table(predictions, y_test)"
   ]
  },
  {
   "cell_type": "markdown",
   "metadata": {},
   "source": [
    "Not Bad. What happens if I include the square of say, $Lag5$ to our training data? I am doing this manually be creating a dataframe."
   ]
  },
  {
   "cell_type": "code",
   "execution_count": 132,
   "metadata": {
    "scrolled": true
   },
   "outputs": [
    {
     "data": {
      "text/html": [
       "<table>\n",
       "<thead><tr><th scope=col>Year</th><th scope=col>Lag1</th><th scope=col>Lag2</th><th scope=col>Lag3</th><th scope=col>Lag4</th><th scope=col>Lag5</th><th scope=col>Volume</th><th scope=col>Today</th><th scope=col>Squared</th></tr></thead>\n",
       "<tbody>\n",
       "\t<tr><td>1990     </td><td> 0.816   </td><td> 1.572   </td><td>-3.936   </td><td>-0.229   </td><td>-3.484   </td><td>0.1549760</td><td>-0.270   </td><td>12.138256</td></tr>\n",
       "\t<tr><td>1990     </td><td>-0.270   </td><td> 0.816   </td><td> 1.572   </td><td>-3.936   </td><td>-0.229   </td><td>0.1485740</td><td>-2.576   </td><td> 0.052441</td></tr>\n",
       "\t<tr><td>1990     </td><td>-2.576   </td><td>-0.270   </td><td> 0.816   </td><td> 1.572   </td><td>-3.936   </td><td>0.1598375</td><td> 3.514   </td><td>15.492096</td></tr>\n",
       "\t<tr><td>1990     </td><td> 3.514   </td><td>-2.576   </td><td>-0.270   </td><td> 0.816   </td><td> 1.572   </td><td>0.1616300</td><td> 0.712   </td><td> 2.471184</td></tr>\n",
       "\t<tr><td>1990     </td><td> 0.712   </td><td> 3.514   </td><td>-2.576   </td><td>-0.270   </td><td> 0.816   </td><td>0.1537280</td><td> 1.178   </td><td> 0.665856</td></tr>\n",
       "\t<tr><td>1990     </td><td> 1.178   </td><td> 0.712   </td><td> 3.514   </td><td>-2.576   </td><td>-0.270   </td><td>0.1544440</td><td>-1.372   </td><td> 0.072900</td></tr>\n",
       "</tbody>\n",
       "</table>\n"
      ],
      "text/latex": [
       "\\begin{tabular}{r|lllllllll}\n",
       " Year & Lag1 & Lag2 & Lag3 & Lag4 & Lag5 & Volume & Today & Squared\\\\\n",
       "\\hline\n",
       "\t 1990      &  0.816    &  1.572    & -3.936    & -0.229    & -3.484    & 0.1549760 & -0.270    & 12.138256\\\\\n",
       "\t 1990      & -0.270    &  0.816    &  1.572    & -3.936    & -0.229    & 0.1485740 & -2.576    &  0.052441\\\\\n",
       "\t 1990      & -2.576    & -0.270    &  0.816    &  1.572    & -3.936    & 0.1598375 &  3.514    & 15.492096\\\\\n",
       "\t 1990      &  3.514    & -2.576    & -0.270    &  0.816    &  1.572    & 0.1616300 &  0.712    &  2.471184\\\\\n",
       "\t 1990      &  0.712    &  3.514    & -2.576    & -0.270    &  0.816    & 0.1537280 &  1.178    &  0.665856\\\\\n",
       "\t 1990      &  1.178    &  0.712    &  3.514    & -2.576    & -0.270    & 0.1544440 & -1.372    &  0.072900\\\\\n",
       "\\end{tabular}\n"
      ],
      "text/markdown": [
       "\n",
       "Year | Lag1 | Lag2 | Lag3 | Lag4 | Lag5 | Volume | Today | Squared | \n",
       "|---|---|---|---|---|---|\n",
       "| 1990      |  0.816    |  1.572    | -3.936    | -0.229    | -3.484    | 0.1549760 | -0.270    | 12.138256 | \n",
       "| 1990      | -0.270    |  0.816    |  1.572    | -3.936    | -0.229    | 0.1485740 | -2.576    |  0.052441 | \n",
       "| 1990      | -2.576    | -0.270    |  0.816    |  1.572    | -3.936    | 0.1598375 |  3.514    | 15.492096 | \n",
       "| 1990      |  3.514    | -2.576    | -0.270    |  0.816    |  1.572    | 0.1616300 |  0.712    |  2.471184 | \n",
       "| 1990      |  0.712    |  3.514    | -2.576    | -0.270    |  0.816    | 0.1537280 |  1.178    |  0.665856 | \n",
       "| 1990      |  1.178    |  0.712    |  3.514    | -2.576    | -0.270    | 0.1544440 | -1.372    |  0.072900 | \n",
       "\n",
       "\n"
      ],
      "text/plain": [
       "  Year Lag1   Lag2   Lag3   Lag4   Lag5   Volume    Today  Squared  \n",
       "1 1990  0.816  1.572 -3.936 -0.229 -3.484 0.1549760 -0.270 12.138256\n",
       "2 1990 -0.270  0.816  1.572 -3.936 -0.229 0.1485740 -2.576  0.052441\n",
       "3 1990 -2.576 -0.270  0.816  1.572 -3.936 0.1598375  3.514 15.492096\n",
       "4 1990  3.514 -2.576 -0.270  0.816  1.572 0.1616300  0.712  2.471184\n",
       "5 1990  0.712  3.514 -2.576 -0.270  0.816 0.1537280  1.178  0.665856\n",
       "6 1990  1.178  0.712  3.514 -2.576 -0.270 0.1544440 -1.372  0.072900"
      ]
     },
     "metadata": {},
     "output_type": "display_data"
    }
   ],
   "source": [
    "feature = data.frame()\n",
    "for (val in train$Lag5){\n",
    "    feature = rbind(feature, val^2)\n",
    "}\n",
    "colnames(feature) = \"Squared\"\n",
    "X_train_new = cbind(X_train, feature)\n",
    "head(X_train_new)"
   ]
  },
  {
   "cell_type": "markdown",
   "metadata": {},
   "source": [
    "Let us add this new feature to our training data"
   ]
  },
  {
   "cell_type": "code",
   "execution_count": 133,
   "metadata": {},
   "outputs": [
    {
     "data": {
      "text/html": [
       "<table>\n",
       "<thead><tr><th></th><th scope=col>Year</th><th scope=col>Lag1</th><th scope=col>Lag2</th><th scope=col>Lag3</th><th scope=col>Lag4</th><th scope=col>Lag5</th><th scope=col>Volume</th><th scope=col>Today</th><th scope=col>Squared</th></tr></thead>\n",
       "<tbody>\n",
       "\t<tr><th scope=row>934</th><td>2008     </td><td>-4.522   </td><td>-0.402   </td><td> 1.125   </td><td>-2.440   </td><td> 1.588   </td><td>3.372257 </td><td>-0.752   </td><td> 2.521744</td></tr>\n",
       "\t<tr><th scope=row>935</th><td>2008     </td><td>-0.752   </td><td>-4.522   </td><td>-0.402   </td><td> 1.125   </td><td>-2.440   </td><td>4.788802 </td><td>-5.412   </td><td> 5.953600</td></tr>\n",
       "\t<tr><th scope=row>936</th><td>2008     </td><td>-5.412   </td><td>-0.752   </td><td>-4.522   </td><td>-0.402   </td><td> 1.125   </td><td>5.006464 </td><td> 0.409   </td><td> 1.265625</td></tr>\n",
       "\t<tr><th scope=row>937</th><td>2008     </td><td> 0.409   </td><td>-5.412   </td><td>-0.752   </td><td>-4.522   </td><td>-0.402   </td><td>5.100980 </td><td> 4.871   </td><td> 0.161604</td></tr>\n",
       "\t<tr><th scope=row>938</th><td>2008     </td><td> 4.871   </td><td> 0.409   </td><td>-5.412   </td><td>-0.752   </td><td>-4.522   </td><td>4.539542 </td><td>-4.596   </td><td>20.448484</td></tr>\n",
       "\t<tr><th scope=row>939</th><td>2008     </td><td>-4.596   </td><td> 4.871   </td><td> 0.409   </td><td>-5.412   </td><td>-0.752   </td><td>4.035458 </td><td> 1.405   </td><td> 0.565504</td></tr>\n",
       "</tbody>\n",
       "</table>\n"
      ],
      "text/latex": [
       "\\begin{tabular}{r|lllllllll}\n",
       "  & Year & Lag1 & Lag2 & Lag3 & Lag4 & Lag5 & Volume & Today & Squared\\\\\n",
       "\\hline\n",
       "\t934 & 2008      & -4.522    & -0.402    &  1.125    & -2.440    &  1.588    & 3.372257  & -0.752    &  2.521744\\\\\n",
       "\t935 & 2008      & -0.752    & -4.522    & -0.402    &  1.125    & -2.440    & 4.788802  & -5.412    &  5.953600\\\\\n",
       "\t936 & 2008      & -5.412    & -0.752    & -4.522    & -0.402    &  1.125    & 5.006464  &  0.409    &  1.265625\\\\\n",
       "\t937 & 2008      &  0.409    & -5.412    & -0.752    & -4.522    & -0.402    & 5.100980  &  4.871    &  0.161604\\\\\n",
       "\t938 & 2008      &  4.871    &  0.409    & -5.412    & -0.752    & -4.522    & 4.539542  & -4.596    & 20.448484\\\\\n",
       "\t939 & 2008      & -4.596    &  4.871    &  0.409    & -5.412    & -0.752    & 4.035458  &  1.405    &  0.565504\\\\\n",
       "\\end{tabular}\n"
      ],
      "text/markdown": [
       "\n",
       "| <!--/--> | Year | Lag1 | Lag2 | Lag3 | Lag4 | Lag5 | Volume | Today | Squared | \n",
       "|---|---|---|---|---|---|\n",
       "| 934 | 2008      | -4.522    | -0.402    |  1.125    | -2.440    |  1.588    | 3.372257  | -0.752    |  2.521744 | \n",
       "| 935 | 2008      | -0.752    | -4.522    | -0.402    |  1.125    | -2.440    | 4.788802  | -5.412    |  5.953600 | \n",
       "| 936 | 2008      | -5.412    | -0.752    | -4.522    | -0.402    |  1.125    | 5.006464  |  0.409    |  1.265625 | \n",
       "| 937 | 2008      |  0.409    | -5.412    | -0.752    | -4.522    | -0.402    | 5.100980  |  4.871    |  0.161604 | \n",
       "| 938 | 2008      |  4.871    |  0.409    | -5.412    | -0.752    | -4.522    | 4.539542  | -4.596    | 20.448484 | \n",
       "| 939 | 2008      | -4.596    |  4.871    |  0.409    | -5.412    | -0.752    | 4.035458  |  1.405    |  0.565504 | \n",
       "\n",
       "\n"
      ],
      "text/plain": [
       "    Year Lag1   Lag2   Lag3   Lag4   Lag5   Volume   Today  Squared  \n",
       "934 2008 -4.522 -0.402  1.125 -2.440  1.588 3.372257 -0.752  2.521744\n",
       "935 2008 -0.752 -4.522 -0.402  1.125 -2.440 4.788802 -5.412  5.953600\n",
       "936 2008 -5.412 -0.752 -4.522 -0.402  1.125 5.006464  0.409  1.265625\n",
       "937 2008  0.409 -5.412 -0.752 -4.522 -0.402 5.100980  4.871  0.161604\n",
       "938 2008  4.871  0.409 -5.412 -0.752 -4.522 4.539542 -4.596 20.448484\n",
       "939 2008 -4.596  4.871  0.409 -5.412 -0.752 4.035458  1.405  0.565504"
      ]
     },
     "metadata": {},
     "output_type": "display_data"
    }
   ],
   "source": [
    "#Let us add the same for testing data.\n",
    "feature = data.frame()\n",
    "for (val in test$Lag5){\n",
    "    feature = rbind(feature, val^2)\n",
    "}\n",
    "colnames(feature) = \"Squared\"\n",
    "\n",
    "X_test_new = cbind(X_test, feature)\n",
    "head(X_test_new)"
   ]
  },
  {
   "cell_type": "code",
   "execution_count": 136,
   "metadata": {},
   "outputs": [
    {
     "data": {
      "text/plain": [
       "           y_test\n",
       "predictions Down Up\n",
       "       Down   45 11\n",
       "       Up     27 73"
      ]
     },
     "metadata": {},
     "output_type": "display_data"
    }
   ],
   "source": [
    "y_train = train[,length(train)]\n",
    "y_test = test[,length(test)]\n",
    "\n",
    "predictions = knn(X_train_new, X_test_new, y_train, k=5)\n",
    "table(predictions, y_test)"
   ]
  },
  {
   "cell_type": "markdown",
   "metadata": {},
   "source": [
    "It looks like there was a decrease in performance when $Lag5$ squared was included."
   ]
  }
 ],
 "metadata": {
  "kernelspec": {
   "display_name": "R",
   "language": "R",
   "name": "ir"
  },
  "language_info": {
   "codemirror_mode": "r",
   "file_extension": ".r",
   "mimetype": "text/x-r-source",
   "name": "R",
   "pygments_lexer": "r",
   "version": "3.4.1"
  }
 },
 "nbformat": 4,
 "nbformat_minor": 2
}
